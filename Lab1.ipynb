{
 "cells": [
  {
   "cell_type": "markdown",
   "id": "70164272-17c7-41ac-8a17-a1a39f2a8518",
   "metadata": {},
   "source": [
    "# Git & Github"
   ]
  },
  {
   "cell_type": "markdown",
   "id": "135afd0f-ded6-4323-b741-c2e7844284b0",
   "metadata": {},
   "source": [
    "## **1. Git**"
   ]
  },
  {
   "cell_type": "markdown",
   "id": "e7a6fdf2-9e80-49cd-aea3-e0af45d0315a",
   "metadata": {},
   "source": [
    "### **¿Que es Git?**\n",
    "\n",
    "Git es un sistema de control de versiones distribuido, lo que significa que un clon local del proyecto es un repositorio de control de versiones completo. Estos repositorios locales plenamente funcionales permiten trabajar sin conexión o de forma remota con facilidad.\n",
    "\n",
    "Git, que **presenta una arquitectura distribuida**, es un ejemplo de DVCS (sistema de control de versiones distribuido, por sus siglas en inglés). En lugar de tener un único espacio para todo el historial de versiones del software, como sucede de manera habitual en los sistemas de control de versiones antaño populares, como CVS o Subversion, en Git, la copia de trabajo del código de cada desarrollador es también un repositorio que puede albergar el historial completo de todos los cambios.\n",
    "\n",
    "### **Aspectos basicos de Git**\n",
    "\n",
    "Cada vez que se guarda el trabajo, Git crea una confirmación. Una confirmación es una instantánea de todos los archivos en un momento dado. Si un archivo no ha cambiado de una confirmación a la siguiente, Git usa el archivo almacenado anteriormente.\n",
    "\n",
    "![linear](https://learn.microsoft.com/es-es/devops/_img/linear_straight_line.png)\n",
    "\n",
    "**1. Ramas**\n",
    "\n",
    "Cada desarrollador guarda los cambios en su propio repositorio de código local. Como resultado, puede haber muchos cambios diferentes basados en la misma confirmación. Git proporciona herramientas para aislar los cambios y volver a combinarlos posteriormente. Las ramas, que son punteros ligeros para el trabajo en curso, administran esta separación. Una vez finalizado el trabajo creado en una rama, se puede combinar de nuevo en la rama principal (o troncal) del equipo.\n",
    "\n",
    "![branching](https://learn.microsoft.com/es-es/devops/_img/branching_line.png)\n",
    "\n",
    "**2. Archivos y Confirmaciones**\n",
    "\n",
    "Los archivos de Git se encuentran en uno de estos tres estados: modificados, almacenados provisionalmente o confirmados. Cuando se modifica un archivo por primera vez, los cambios solo existen en el directorio de trabajo. Todavía no forman parte de una confirmación ni del historial de desarrollo. El desarrollador debe almacenar provisionalmente los archivos modificados que se incluirán en la confirmación. El área de almacenamiento provisional contiene todos los cambios que se incluirán en la siguiente confirmación. Una vez que el desarrollador esté satisfecho con los archivos almacenados provisionalmente, los archivos se empaquetan como una confirmación con un mensaje que describe lo que ha cambiado. Esta confirmación pasa a formar parte del historial de desarrollo.\n",
    "\n",
    "![file status](https://learn.microsoft.com/es-es/devops/_img/file_status_lifecycle.2.png)\n",
    "\n",
    "### **Ventajas de Git**\n",
    "\n",
    "**1. Desarrollos simultáneo:** Todos los usuarios tienen su propia copia local de código y pueden trabajar simultáneamente en sus propias ramas.\n",
    "\n",
    "**2. Versiones de lanzamiento más rápidas:** Al separar la rama de versión del desarrollo en curso, es más fácil administrar código estable y enviar actualizaciones más rápidamente.\n",
    "\n",
    "**3. Integración incorporada:** Debido a su popularidad, Git se integra en la mayoría de las herramientas y productos.\n",
    "\n",
    "**4. Sólido soprote técnico de la comunidad:** Git es de código abierto y se ha convertido en el estándar de facto para el control de versiones.\n",
    "\n",
    "**5 Git funciona con cualquier equipo:** El equipo puede decidirse por herramientas individuales para el control de versiones, el seguimiento de los elementos de trabajo y la integración e implementación continuas. O bien, pueden elegir una solución como GitHub o Azure DevOps que admita todas estas tareas en un solo lugar."
   ]
  },
  {
   "cell_type": "markdown",
   "id": "02d83510-3af6-427b-91c0-9ca271545fab",
   "metadata": {},
   "source": [
    "## **2. Github**\n",
    "\n",
    "![Github](https://i.blogs.es/bd50eb/github_logo/1366_2000.png)"
   ]
  },
  {
   "cell_type": "markdown",
   "id": "9e2540cc-50d5-47d8-8dc2-f005d1aa4a7a",
   "metadata": {},
   "source": [
    "### **¿Qué es Github?**\n",
    "\n",
    "Github es un portal creado para alojar el código de las aplicaciones de cualquier desarrollador, y que fue comprada por Microsoft en junio del 2018. La plataforma está creada para que los desarrolladores suban el código de sus aplicaciones y herramientas, y que como usuario no sólo puedas descargarte la aplicación, sino también entrar a su perfil para leer sobre ella o colaborar con su desarrollo.\n",
    "\n",
    "GitHub es un servicio basado en la nube que aloja un sistema de control de versiones (VCS) llamado Git. Éste permite a los desarrolladores colaborar y realizar cambios en proyectos compartidos, a la vez que mantienen un seguimiento detallado de su progreso.\n",
    "\n",
    "Las principales características de la plataforma es que ofrece las mejores características de este tipo de servicios sin perder la simplicidad, y es una de las más utilizadas del mundo por los desarrolladores. Es multiplataforma, y tiene multitud de interfaces de usuario.\n",
    "\n",
    "### **¿Qué es el control de versiones?**\n",
    "\n",
    "El control de versiones es un sistema que ayuda a rastrear y gestionar los cambios realizados en un archivo o conjunto de archivos. Utilizado principalmente por ingenieros de software para hacer un seguimiento de las modificaciones realizadas en el código fuente, el sistema de control de versiones les permite analizar todos los cambios y revertirlos sin repercusiones si se comete un error.\n",
    "\n",
    "En otras palabras, el control de versiones permite a los desarrolladores trabajar en proyectos simultáneamente. Les permite hacer tantos cambios como necesiten sin infringir o retrasar el trabajo de sus colegas.\n",
    "\n",
    "### **¿Qué es Git?**\n",
    "\n",
    "Se trata de un sistema de control de versiones distribuido. Esto significa que cualquier desarrollador del equipo que tenga acceso puede gestionar el código fuente y su historial de cambios utilizando las herramientas de línea de comandos de Git.\n",
    "\n",
    "A diferencia de los sistemas de control de versiones centralizados, Git ofrece ramas de características. Esto significa que cada ingeniero de software en el equipo puede dividir una rama de características que proporcionará un repositorio local aislado para hacer cambios en el código.\n",
    "\n",
    "### **¿Por que es popular GitHub?**\n",
    "\n",
    "Esto se debe a que GitHub es una plataforma de gestión y organización de proyectos basada en la nube que incorpora las funciones de control de versiones de Git. Es decir que todos los usuarios de GitHub pueden rastrear y gestionar los cambios que se realizan en el código fuente en tiempo real, a la vez que tienen acceso a todas las demás funciones de Git disponibles en el mismo lugar.\n",
    "\n",
    "Además, la interfaz de usuario de GitHub es más fácil de usar que la de Git, lo que la hace accesible para personas con pocos o ningún conocimiento técnico. Esto significa que se puede incluir a más miembros del equipo en el progreso y la gestión de un proyecto, haciendo que el proceso de desarrollo sea más fluido."
   ]
  },
  {
   "cell_type": "code",
   "execution_count": null,
   "id": "ef900928-6267-47e1-8a86-855c23fcd8a1",
   "metadata": {
    "tags": []
   },
   "outputs": [],
   "source": [
    "pip install --upgrade jupyterlab-git"
   ]
  },
  {
   "cell_type": "code",
   "execution_count": null,
   "id": "99971e25-dd03-4e47-9ffd-f5f9b5fdcb8a",
   "metadata": {},
   "outputs": [],
   "source": [
    "!git init\n",
    "!git add .\n",
    "!git commit -m "
   ]
  },
  {
   "cell_type": "code",
   "execution_count": null,
   "id": "7099b7b8-ed55-4da1-9274-c35dbfd0e305",
   "metadata": {
    "tags": []
   },
   "outputs": [],
   "source": [
    "!git config --global user.email \"dihego2402@icloud.com\"\n",
    "!git config --global user.name \"DiegoAlmu24\""
   ]
  },
  {
   "cell_type": "code",
   "execution_count": null,
   "id": "d006492e-f70a-4256-b022-5771e700eef1",
   "metadata": {
    "tags": []
   },
   "outputs": [],
   "source": [
    "!git clone https:https://github.com/DiegoAlmu24/Python_Ciencia_de_Datos.git\n",
    "!git pull origin master"
   ]
  },
  {
   "cell_type": "code",
   "execution_count": null,
   "id": "8fa108cf-be68-47a7-aee0-ba7d43f40878",
   "metadata": {
    "tags": []
   },
   "outputs": [],
   "source": [
    "!git add Lab1.ipynb"
   ]
  }
 ],
 "metadata": {
  "kernelspec": {
   "display_name": "Python 3 (ipykernel)",
   "language": "python",
   "name": "python3"
  },
  "language_info": {
   "codemirror_mode": {
    "name": "ipython",
    "version": 3
   },
   "file_extension": ".py",
   "mimetype": "text/x-python",
   "name": "python",
   "nbconvert_exporter": "python",
   "pygments_lexer": "ipython3",
   "version": "3.11.5"
  }
 },
 "nbformat": 4,
 "nbformat_minor": 5
}
